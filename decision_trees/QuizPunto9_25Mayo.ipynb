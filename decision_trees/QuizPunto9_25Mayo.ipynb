{
  "nbformat": 4,
  "nbformat_minor": 0,
  "metadata": {
    "colab": {
      "provenance": []
    },
    "kernelspec": {
      "name": "python3",
      "display_name": "Python 3"
    },
    "language_info": {
      "name": "python"
    }
  },
  "cells": [
    {
      "cell_type": "code",
      "source": [
        "import pandas as pd\n",
        "from sklearn.model_selection import train_test_split, GridSearchCV\n",
        "from sklearn.naive_bayes import GaussianNB\n",
        "from sklearn.tree import DecisionTreeClassifier\n",
        "from sklearn.metrics import accuracy_score\n",
        "from sklearn.preprocessing import LabelEncoder\n",
        "\n",
        "# Cargar datos\n",
        "data = pd.read_excel('/content/datos_default (1).xlsx')\n",
        "\n",
        "# Preprocesamiento\n",
        "data.dropna(inplace=True)\n",
        "\n",
        "# Convertir la variable objetivo 'default' a numérica\n",
        "labelencoder = LabelEncoder()\n",
        "data['default'] = labelencoder.fit_transform(data['default'])\n",
        "\n",
        "# Convertir variables categóricas a numéricas usando One-Hot Encoding\n",
        "categorical_columns = data.select_dtypes(include=['object']).columns\n",
        "data = pd.get_dummies(data, columns=categorical_columns, drop_first=True)\n",
        "\n",
        "# Separar la variable objetivo de las características\n",
        "X = data.drop(columns=['default'])\n",
        "y = data['default']\n",
        "\n",
        "# Separar datos en entrenamiento y prueba\n",
        "X_train, X_test, y_train, y_test = train_test_split(X, y, test_size=0.3, random_state=42)\n",
        "\n",
        "# Búsqueda de hiperparámetros para Naive Bayes\n",
        "nb_model = GaussianNB()\n",
        "param_grid_nb = {\n",
        "    'var_smoothing': [1e-09, 1e-08, 1e-07, 1e-06, 1e-05]\n",
        "}\n",
        "grid_search_nb = GridSearchCV(estimator=nb_model, param_grid=param_grid_nb, cv=5, scoring='accuracy')\n",
        "grid_search_nb.fit(X_train, y_train)\n",
        "best_nb_model = grid_search_nb.best_estimator_\n",
        "\n",
        "# Predicción y precisión para Naive Bayes\n",
        "nb_pred = best_nb_model.predict(X_test)\n",
        "nb_accuracy = accuracy_score(y_test, nb_pred)\n",
        "\n",
        "# Búsqueda de hiperparámetros para Árbol de Decisión\n",
        "tree_model = DecisionTreeClassifier(random_state=42)\n",
        "param_grid_tree = {\n",
        "    'criterion': ['gini', 'entropy'],\n",
        "    'max_depth': [None, 10, 20, 30, 40, 50],\n",
        "    'min_samples_split': [2, 10, 20],\n",
        "    'min_samples_leaf': [1, 5, 10]\n",
        "}\n",
        "grid_search_tree = GridSearchCV(estimator=tree_model, param_grid=param_grid_tree, cv=5, scoring='accuracy')\n",
        "grid_search_tree.fit(X_train, y_train)\n",
        "best_tree_model = grid_search_tree.best_estimator_\n",
        "\n",
        "# Predicción y precisión para Árbol de Decisión\n",
        "tree_pred = best_tree_model.predict(X_test)\n",
        "tree_accuracy = accuracy_score(y_test, tree_pred)\n",
        "\n",
        "print(f'Precisión Naive Bayes (mejorado): {nb_accuracy}')\n",
        "print(f'Precisión Árbol de Decisión (mejorado): {tree_accuracy}')"
      ],
      "metadata": {
        "colab": {
          "base_uri": "https://localhost:8080/"
        },
        "id": "HI0LfsAucVBK",
        "outputId": "622ef634-cc4d-40f7-f181-3f638a7b56ac"
      },
      "execution_count": null,
      "outputs": [
        {
          "output_type": "stream",
          "name": "stdout",
          "text": [
            "Precisión Naive Bayes (mejorado): 0.667\n",
            "Precisión Árbol de Decisión (mejorado): 0.9686666666666667\n"
          ]
        }
      ]
    }
  ]
}